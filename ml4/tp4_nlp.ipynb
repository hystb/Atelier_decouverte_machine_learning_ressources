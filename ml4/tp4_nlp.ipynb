{
 "cells": [
  {
   "cell_type": "markdown",
   "id": "8e37d3b4",
   "metadata": {},
   "source": [
    "## 📦 Importation des bibliothèques"
   ]
  },
  {
   "cell_type": "code",
   "execution_count": 1,
   "id": "78cf5317",
   "metadata": {},
   "outputs": [],
   "source": [
    "from datasets import load_dataset\n",
    "from transformers import AutoTokenizer, AutoModel\n",
    "import torch\n",
    "from torch.utils.data import DataLoader\n",
    "import torch.nn as nn\n",
    "import torch.nn.functional as F\n",
    "import torch.optim as optim\n",
    "from torch.utils.data import TensorDataset, DataLoader\n",
    "from sklearn.metrics import accuracy_score, f1_score, confusion_matrix, ConfusionMatrixDisplay\n",
    "import matplotlib.pyplot as plt\n",
    "import numpy as np"
   ]
  },
  {
   "cell_type": "markdown",
   "id": "2025de5b",
   "metadata": {},
   "source": [
    "## 📊 Chargement du jeu de données"
   ]
  },
  {
   "cell_type": "code",
   "execution_count": 2,
   "id": "9d22caa0",
   "metadata": {},
   "outputs": [
    {
     "name": "stdout",
     "output_type": "stream",
     "text": [
      "DatasetDict({\n",
      "    train: Dataset({\n",
      "        features: ['text', 'label'],\n",
      "        num_rows: 120000\n",
      "    })\n",
      "    test: Dataset({\n",
      "        features: ['text', 'label'],\n",
      "        num_rows: 7600\n",
      "    })\n",
      "})\n",
      "['World', 'Sports', 'Business', 'Sci/Tech']\n"
     ]
    }
   ],
   "source": [
    "dataset = load_dataset(\"ag_news\")\n",
    "class_names = dataset[\"train\"].features[\"label\"].names\n",
    "print(dataset)\n",
    "print(class_names)"
   ]
  },
  {
   "cell_type": "markdown",
   "id": "1ca96d92",
   "metadata": {},
   "source": [
    "## 🤖 Chargement du modèle pour extraire les features"
   ]
  },
  {
   "cell_type": "code",
   "execution_count": 3,
   "id": "97bcea7c",
   "metadata": {},
   "outputs": [],
   "source": [
    "model_name = \"distilbert-base-uncased\"\n",
    "tokenizer = AutoTokenizer.from_pretrained(model_name)\n",
    "model = AutoModel.from_pretrained(model_name)"
   ]
  },
  {
   "cell_type": "markdown",
   "id": "d6502ea2",
   "metadata": {},
   "source": [
    "## 🧪 Passage du modèle en mode évaluation (et test de présence GPU)"
   ]
  },
  {
   "cell_type": "code",
   "execution_count": 4,
   "id": "a6af671c",
   "metadata": {},
   "outputs": [
    {
     "name": "stdout",
     "output_type": "stream",
     "text": [
      "Using device: cuda\n"
     ]
    }
   ],
   "source": [
    "device = torch.device(\"cuda\" if torch.cuda.is_available() else \"cpu\")\n",
    "model.to(device)\n",
    "model.eval()\n",
    "print(f\"Using device: {device}\")"
   ]
  },
  {
   "cell_type": "markdown",
   "id": "1b75896c",
   "metadata": {},
   "source": [
    "## 🛠️ Fonction utilitaire"
   ]
  },
  {
   "cell_type": "code",
   "execution_count": 5,
   "id": "ae4cefdd",
   "metadata": {},
   "outputs": [],
   "source": [
    "def tokenize_function(examples):\n",
    "    return tokenizer(examples[\"text\"], padding=\"max_length\", truncation=True, max_length=256)\n",
    "\n",
    "def extract_embeddings(batch):\n",
    "    inputs = {k: v.to(device) for k, v in batch.items() if k in ['input_ids', 'attention_mask']}\n",
    "    with torch.no_grad():\n",
    "        outputs = model(**inputs)\n",
    "    return {'embeddings': outputs.last_hidden_state[:, 0].cpu().numpy()}"
   ]
  },
  {
   "cell_type": "markdown",
   "id": "9c233ff9",
   "metadata": {},
   "source": [
    "## ✂️ Tokenisation"
   ]
  },
  {
   "cell_type": "code",
   "execution_count": 6,
   "id": "68efd07c",
   "metadata": {},
   "outputs": [
    {
     "data": {
      "application/vnd.jupyter.widget-view+json": {
       "model_id": "31c99f5853574e50a891efe16a403693",
       "version_major": 2,
       "version_minor": 0
      },
      "text/plain": [
       "Map:   0%|          | 0/7600 [00:00<?, ? examples/s]"
      ]
     },
     "metadata": {},
     "output_type": "display_data"
    }
   ],
   "source": [
    "tokenized_datasets = dataset.map(tokenize_function, batched=True)\n",
    "tokenized_datasets = tokenized_datasets.remove_columns([\"text\"])\n",
    "tokenized_datasets = tokenized_datasets.rename_column(\"label\", \"labels\")\n",
    "tokenized_datasets.set_format(\"torch\")"
   ]
  },
  {
   "cell_type": "markdown",
   "id": "be034f8d",
   "metadata": {},
   "source": [
    "## 🧠 Extraction des embeddings"
   ]
  },
  {
   "cell_type": "code",
   "execution_count": 7,
   "id": "c752d239",
   "metadata": {},
   "outputs": [
    {
     "name": "stdout",
     "output_type": "stream",
     "text": [
      "Extraction des embeddings pour le jeu d'entraînement...\n",
      "Extraction des embeddings pour le jeu de test...\n"
     ]
    },
    {
     "data": {
      "application/vnd.jupyter.widget-view+json": {
       "model_id": "3c280a1eb15f4e1492346fe300bd5b99",
       "version_major": 2,
       "version_minor": 0
      },
      "text/plain": [
       "Map:   0%|          | 0/7600 [00:00<?, ? examples/s]"
      ]
     },
     "metadata": {},
     "output_type": "display_data"
    }
   ],
   "source": [
    "print(\"Extraction des embeddings pour le jeu d'entraînement...\")\n",
    "train_embeddings = tokenized_datasets[\"train\"].map(extract_embeddings, batched=True, batch_size=512)\n",
    "print(\"Extraction des embeddings pour le jeu de test...\")\n",
    "test_embeddings = tokenized_datasets[\"test\"].map(extract_embeddings, batched=True, batch_size=512)"
   ]
  },
  {
   "cell_type": "markdown",
   "id": "d822fe96",
   "metadata": {},
   "source": [
    "## 💾 Stockage dans des tableaux NumPy"
   ]
  },
  {
   "cell_type": "code",
   "execution_count": 8,
   "id": "05e165be",
   "metadata": {},
   "outputs": [
    {
     "name": "stdout",
     "output_type": "stream",
     "text": [
      "\n",
      "Dimensions des embeddings d'entraînement : (120000, 768)\n",
      "Dimensions des labels d'entraînement : (120000,)\n"
     ]
    },
    {
     "name": "stderr",
     "output_type": "stream",
     "text": [
      "/tmp/ipykernel_1640/2515415211.py:1: DeprecationWarning: __array__ implementation doesn't accept a copy keyword, so passing copy=False failed. __array__ must implement 'dtype' and 'copy' keyword arguments. To learn more, see the migration guide https://numpy.org/devdocs/numpy_2_0_migration_guide.html#adapting-to-changes-in-the-copy-keyword\n",
      "  X_train = np.array(train_embeddings[\"embeddings\"])\n",
      "/tmp/ipykernel_1640/2515415211.py:2: DeprecationWarning: __array__ implementation doesn't accept a copy keyword, so passing copy=False failed. __array__ must implement 'dtype' and 'copy' keyword arguments. To learn more, see the migration guide https://numpy.org/devdocs/numpy_2_0_migration_guide.html#adapting-to-changes-in-the-copy-keyword\n",
      "  y_train = np.array(train_embeddings[\"labels\"])\n",
      "/tmp/ipykernel_1640/2515415211.py:3: DeprecationWarning: __array__ implementation doesn't accept a copy keyword, so passing copy=False failed. __array__ must implement 'dtype' and 'copy' keyword arguments. To learn more, see the migration guide https://numpy.org/devdocs/numpy_2_0_migration_guide.html#adapting-to-changes-in-the-copy-keyword\n",
      "  X_test = np.array(test_embeddings[\"embeddings\"])\n",
      "/tmp/ipykernel_1640/2515415211.py:4: DeprecationWarning: __array__ implementation doesn't accept a copy keyword, so passing copy=False failed. __array__ must implement 'dtype' and 'copy' keyword arguments. To learn more, see the migration guide https://numpy.org/devdocs/numpy_2_0_migration_guide.html#adapting-to-changes-in-the-copy-keyword\n",
      "  y_test = np.array(test_embeddings[\"labels\"])\n"
     ]
    }
   ],
   "source": [
    "X_train = np.array(train_embeddings[\"embeddings\"])\n",
    "y_train = np.array(train_embeddings[\"labels\"])\n",
    "X_test = np.array(test_embeddings[\"embeddings\"])\n",
    "y_test = np.array(test_embeddings[\"labels\"])\n",
    "\n",
    "print(f\"\\nDimensions des embeddings d'entraînement : {X_train.shape}\")\n",
    "print(f\"Dimensions des labels d'entraînement : {y_train.shape}\")"
   ]
  },
  {
   "cell_type": "markdown",
   "id": "444b6c7f",
   "metadata": {},
   "source": [
    "## 🧱 Définition de notre modèle de classification"
   ]
  },
  {
   "cell_type": "code",
   "execution_count": 9,
   "id": "2a48b069",
   "metadata": {},
   "outputs": [],
   "source": [
    "class SimpleClassifier(nn.Module):\n",
    "    def __init__(self, input_dim, num_classes, dropout_rate=0.3):\n",
    "        super(SimpleClassifier, self).__init__()\n",
    "\n",
    "        self.fc1 = nn.Linear(input_dim, 512)\n",
    "        self.bn1 = nn.BatchNorm1d(512)\n",
    "        self.dropout1 = nn.Dropout(dropout_rate)\n",
    "\n",
    "        self.fc2 = nn.Linear(512, 256)\n",
    "        self.bn2 = nn.BatchNorm1d(256)\n",
    "        self.dropout2 = nn.Dropout(dropout_rate)\n",
    "\n",
    "        self.fc3 = nn.Linear(256, num_classes)\n",
    "        \n",
    "    def forward(self, x):\n",
    "        x = self.fc1(x)\n",
    "        x = self.bn1(x)\n",
    "        x = F.relu(x)\n",
    "        x = self.dropout1(x)\n",
    "\n",
    "        x = self.fc2(x)\n",
    "        x = self.bn2(x)\n",
    "        x = F.relu(x)\n",
    "        x = self.dropout2(x)\n",
    "\n",
    "        logits = self.fc3(x) \n",
    "        return logits"
   ]
  },
  {
   "cell_type": "markdown",
   "id": "39a4b199",
   "metadata": {},
   "source": [
    "## ⏱️ Paramètres du EarlyStopping"
   ]
  },
  {
   "cell_type": "code",
   "execution_count": 10,
   "id": "c9a04895",
   "metadata": {},
   "outputs": [],
   "source": [
    "best_val_loss = float('inf')\n",
    "patience = 5                 \n",
    "epochs_no_improve = 0       \n",
    "early_stop = False          \n",
    "best_model_state = None"
   ]
  },
  {
   "cell_type": "markdown",
   "id": "3a0708bd",
   "metadata": {},
   "source": [
    "## 🔁 Entraînement du modèle"
   ]
  },
  {
   "cell_type": "code",
   "execution_count": 11,
   "id": "74507df4",
   "metadata": {},
   "outputs": [
    {
     "name": "stdout",
     "output_type": "stream",
     "text": [
      "\n",
      "Entraînement du classifieur simple avec Early Stopping...\n",
      "Epoch 1/100, Train Loss: 0.2880, Val Loss: 0.2490\n",
      "  --> Nouvelle meilleure perte de validation. Sauvegarde du modèle.\n",
      "Epoch 2/100, Train Loss: 0.2387, Val Loss: 0.2372\n",
      "  --> Nouvelle meilleure perte de validation. Sauvegarde du modèle.\n",
      "Epoch 3/100, Train Loss: 0.2215, Val Loss: 0.2282\n",
      "  --> Nouvelle meilleure perte de validation. Sauvegarde du modèle.\n",
      "Epoch 4/100, Train Loss: 0.2093, Val Loss: 0.2211\n",
      "  --> Nouvelle meilleure perte de validation. Sauvegarde du modèle.\n",
      "Epoch 5/100, Train Loss: 0.1989, Val Loss: 0.2231\n",
      "  --> Perte de validation non améliorée pour 1 époque(s).\n",
      "Epoch 6/100, Train Loss: 0.1895, Val Loss: 0.2225\n",
      "  --> Perte de validation non améliorée pour 2 époque(s).\n",
      "Epoch 7/100, Train Loss: 0.1815, Val Loss: 0.2250\n",
      "  --> Perte de validation non améliorée pour 3 époque(s).\n",
      "Epoch 8/100, Train Loss: 0.1734, Val Loss: 0.2243\n",
      "  --> Perte de validation non améliorée pour 4 époque(s).\n",
      "Epoch 9/100, Train Loss: 0.1669, Val Loss: 0.2252\n",
      "  --> Perte de validation non améliorée pour 5 époque(s).\n",
      "  --> Early stopping déclenché après 5 époques sans amélioration.\n",
      "\n",
      "Meilleur modèle chargé pour l'évaluation finale.\n"
     ]
    }
   ],
   "source": [
    "input_dim = X_train.shape[1]\n",
    "num_classes = len(class_names)\n",
    "model_classifier = SimpleClassifier(input_dim, num_classes).to(device)\n",
    "\n",
    "criterion = nn.CrossEntropyLoss()\n",
    "optimizer = optim.Adam(model_classifier.parameters(), lr=0.001)\n",
    "\n",
    "train_dataset_pt = TensorDataset(torch.tensor(X_train, dtype=torch.float32), torch.tensor(y_train, dtype=torch.long))\n",
    "test_dataset_pt = TensorDataset(torch.tensor(X_test, dtype=torch.float32), torch.tensor(y_test, dtype=torch.long))\n",
    "\n",
    "train_loader = DataLoader(train_dataset_pt, batch_size=512, shuffle=True)\n",
    "test_loader = DataLoader(test_dataset_pt, batch_size=512, shuffle=False)\n",
    "\n",
    "num_epochs = 100\n",
    "print(\"\\nEntraînement du classifieur simple avec Early Stopping...\")\n",
    "for epoch in range(num_epochs):\n",
    "    # Phase d'entraînement\n",
    "    model_classifier.train()\n",
    "    train_loss = 0.0\n",
    "    for inputs, labels in train_loader:\n",
    "        inputs, labels = inputs.to(device), labels.to(device)\n",
    "        optimizer.zero_grad()\n",
    "        outputs = model_classifier(inputs)\n",
    "        loss = criterion(outputs, labels)\n",
    "        loss.backward()\n",
    "        optimizer.step()\n",
    "        train_loss += loss.item() * inputs.size(0)\n",
    "    train_loss = train_loss / len(train_loader.dataset)\n",
    "\n",
    "    # Phase de validation\n",
    "    model_classifier.eval() \n",
    "    val_loss = 0.0\n",
    "    with torch.no_grad():\n",
    "        for inputs, labels in test_loader:\n",
    "            inputs, labels = inputs.to(device), labels.to(device)\n",
    "            outputs = model_classifier(inputs)\n",
    "            loss = criterion(outputs, labels)\n",
    "            val_loss += loss.item() * inputs.size(0)\n",
    "    val_loss = val_loss / len(test_loader.dataset)\n",
    "\n",
    "    print(f\"Epoch {epoch+1}/{num_epochs}, Train Loss: {train_loss:.4f}, Val Loss: {val_loss:.4f}\")\n",
    "\n",
    "    if val_loss < best_val_loss:\n",
    "        best_val_loss = val_loss\n",
    "        epochs_no_improve = 0\n",
    "        best_model_state = model_classifier.state_dict() \n",
    "        print(f\"  --> Nouvelle meilleure perte de validation. Sauvegarde du modèle.\")\n",
    "    else:\n",
    "        epochs_no_improve += 1\n",
    "        print(f\"  --> Perte de validation non améliorée pour {epochs_no_improve} époque(s).\")\n",
    "        if epochs_no_improve >= patience:\n",
    "            print(f\"  --> Early stopping déclenché après {patience} époques sans amélioration.\")\n",
    "            early_stop = True\n",
    "            break \n",
    "\n",
    "    if early_stop:\n",
    "        break\n",
    "\n",
    "if best_model_state:\n",
    "    model_classifier.load_state_dict(best_model_state)\n",
    "    print(\"\\nMeilleur modèle chargé pour l'évaluation finale.\")"
   ]
  },
  {
   "cell_type": "markdown",
   "id": "1e55b013",
   "metadata": {},
   "source": [
    "## 📉 Évaluation des performances sur le jeu de test"
   ]
  },
  {
   "cell_type": "code",
   "execution_count": 12,
   "id": "3b2e3e16",
   "metadata": {},
   "outputs": [
    {
     "name": "stdout",
     "output_type": "stream",
     "text": [
      "\n",
      "Accuracy on the test set: 0.9247\n",
      "F1-score (Macro) on the test set: 0.9249\n"
     ]
    }
   ],
   "source": [
    "model_classifier.eval() \n",
    "all_predictions = []\n",
    "all_labels = []\n",
    "with torch.no_grad():\n",
    "    for inputs, labels in test_loader:\n",
    "        inputs, labels = inputs.to(device), labels.to(device)\n",
    "        outputs = model_classifier(inputs)\n",
    "        _, predicted = torch.max(outputs.data, 1)\n",
    "        all_predictions.extend(predicted.cpu().numpy())\n",
    "        all_labels.extend(labels.cpu().numpy())\n",
    "y_pred = np.array(all_predictions)\n",
    "y_true = np.array(all_labels)\n",
    "accuracy = accuracy_score(y_true, y_pred)\n",
    "f1_macro = f1_score(y_true, y_pred, average='macro')\n",
    "\n",
    "print(f\"\\nAccuracy on the test set: {accuracy:.4f}\")\n",
    "print(f\"F1-score (Macro) on the test set: {f1_macro:.4f}\")"
   ]
  },
  {
   "cell_type": "markdown",
   "id": "1ba4ab17",
   "metadata": {},
   "source": [
    "## 📊 Matrice de confusion pour analyser les performances par classe"
   ]
  },
  {
   "cell_type": "code",
   "execution_count": 13,
   "id": "50f3e418",
   "metadata": {},
   "outputs": [
    {
     "data": {
      "image/png": "[encoded data removed]",
      "text/plain": [
       "<Figure size 640x480 with 2 Axes>"
      ]
     },
     "metadata": {},
     "output_type": "display_data"
    }
   ],
   "source": [
    "cm = confusion_matrix(y_true, y_pred, normalize='true')\n",
    "disp = ConfusionMatrixDisplay(confusion_matrix=cm, display_labels=class_names)\n",
    "disp.plot(cmap=plt.cm.Blues)\n",
    "plt.title(\"Confusion Matrix (normalized)\")\n",
    "plt.show()"
   ]
  },
  {
   "cell_type": "markdown",
   "id": "ba210c36",
   "metadata": {},
   "source": [
    "## 🔍 Définition d'une fonction de prédiction pour tester avec des données utilisateur"
   ]
  },
  {
   "cell_type": "code",
   "execution_count": 20,
   "id": "df024a81",
   "metadata": {},
   "outputs": [],
   "source": [
    "def predict(text_to_predict):\n",
    "    inputs = tokenizer(text_to_predict, return_tensors=\"pt\", padding=\"max_length\", truncation=True, max_length=256)\n",
    "    inputs = {k: v.to(device) for k, v in inputs.items()}\n",
    "\n",
    "    model.eval()\n",
    "    with torch.no_grad():\n",
    "        embedding = model(**inputs).last_hidden_state[:, 0].cpu().numpy()\n",
    "\n",
    "    model_classifier.eval() \n",
    "    with torch.no_grad():\n",
    "        logits = model_classifier(torch.tensor(embedding, dtype=torch.float32).to(device))\n",
    "        probabilities = F.softmax(logits, dim=1)\n",
    "\n",
    "        predicted_class_id = torch.argmax(probabilities, dim=1).item()\n",
    "\n",
    "    predicted_class_name = class_names[predicted_class_id]\n",
    "\n",
    "    print(f\"\\nText: '{text_to_predict}'\")\n",
    "    print(f\"Predicted class: {predicted_class_name}\")\n",
    "    print(f\"Probabilities for each class: {probabilities.cpu().numpy()}\")"
   ]
  },
  {
   "cell_type": "code",
   "execution_count": 21,
   "id": "c30c98ac",
   "metadata": {},
   "outputs": [
    {
     "name": "stdout",
     "output_type": "stream",
     "text": [
      "\n",
      "Text: 'Investors are watching the stock market closely after the interest rate hike.'\n",
      "Predicted class: Business\n",
      "Probabilities for each class: [[2.6670486e-02 6.6998167e-05 9.5829064e-01 1.4971885e-02]]\n"
     ]
    }
   ],
   "source": [
    "predict(\"Investors are watching the stock market closely after the interest rate hike.\")"
   ]
  },
  {
   "cell_type": "code",
   "execution_count": 22,
   "id": "17bf3a46",
   "metadata": {},
   "outputs": [
    {
     "name": "stdout",
     "output_type": "stream",
     "text": [
      "\n",
      "Text: 'The new smartphone model has received positive reviews from tech experts.'\n",
      "Predicted class: Sci/Tech\n",
      "Probabilities for each class: [[3.6635841e-04 2.7555314e-05 1.3592272e-01 8.6368334e-01]]\n"
     ]
    }
   ],
   "source": [
    "predict(\"The new smartphone model has received positive reviews from tech experts.\")"
   ]
  },
  {
   "cell_type": "code",
   "execution_count": 23,
   "id": "e96fe6c7",
   "metadata": {},
   "outputs": [
    {
     "name": "stdout",
     "output_type": "stream",
     "text": [
      "\n",
      "Text: 'The local football team won the championship after a thrilling match.'\n",
      "Predicted class: Sports\n",
      "Probabilities for each class: [[0.23749962 0.57897246 0.17230463 0.01122333]]\n"
     ]
    }
   ],
   "source": [
    "predict(\"The local football team won the championship after a thrilling match.\")"
   ]
  },
  {
   "cell_type": "code",
   "execution_count": 24,
   "id": "7b413aed",
   "metadata": {},
   "outputs": [
    {
     "name": "stdout",
     "output_type": "stream",
     "text": [
      "\n",
      "Text: 'The government has announced new policies to boost the economy.'\n",
      "Predicted class: Business\n",
      "Probabilities for each class: [[7.9495981e-02 1.1745157e-05 9.1859663e-01 1.8955708e-03]]\n"
     ]
    }
   ],
   "source": [
    "predict(\"The government has announced new policies to boost the economy.\")"
   ]
  },
  {
   "cell_type": "code",
   "execution_count": 25,
   "id": "06845212",
   "metadata": {},
   "outputs": [
    {
     "name": "stdout",
     "output_type": "stream",
     "text": [
      "\n",
      "Text: 'The new AI model has shown significant improvements in natural language understanding.'\n",
      "Predicted class: Sci/Tech\n",
      "Probabilities for each class: [[3.8163252e-03 2.9300740e-05 3.4681190e-02 9.6147317e-01]]\n"
     ]
    }
   ],
   "source": [
    "predict(\"The new AI model has shown significant improvements in natural language understanding.\")"
   ]
  },
  {
   "cell_type": "code",
   "execution_count": 28,
   "id": "705e6e4c",
   "metadata": {},
   "outputs": [
    {
     "name": "stdout",
     "output_type": "stream",
     "text": [
      "\n",
      "Text: 'Le PSG remporte son premier titre, des dégradations durant la célébration'\n",
      "Predicted class: Sports\n",
      "Probabilities for each class: [[0.07099511 0.8973191  0.0061614  0.02552447]]\n"
     ]
    }
   ],
   "source": [
    "predict(\"Le PSG remporte son premier titre, des dégradations durant la célébration\")"
   ]
  },
  {
   "cell_type": "code",
   "execution_count": 32,
   "id": "e174d0d2",
   "metadata": {},
   "outputs": [
    {
     "name": "stdout",
     "output_type": "stream",
     "text": [
      "\n",
      "Text: 'Beaucoup d'annonces durant le salon pour les professionnels'\n",
      "Predicted class: Sci/Tech\n",
      "Probabilities for each class: [[0.27932194 0.06543742 0.17170958 0.48353106]]\n"
     ]
    }
   ],
   "source": [
    "predict(\"Beaucoup d'annonces durant le salon pour les professionnels\")"
   ]
  },
  {
   "cell_type": "code",
   "execution_count": 31,
   "id": "a469af0f",
   "metadata": {},
   "outputs": [
    {
     "name": "stdout",
     "output_type": "stream",
     "text": [
      "\n",
      "Text: 'Beaucoup d'annonces durant le salon pour les professionnels de l'hotellerie et de la restauration'\n",
      "Predicted class: Business\n",
      "Probabilities for each class: [[0.11925057 0.00555874 0.5473516  0.3278391 ]]\n"
     ]
    }
   ],
   "source": [
    "predict(\"Beaucoup d'annonces durant le salon pour les professionnels de l'hotellerie et de la restauration\")"
   ]
  }
 ],
 "metadata": {
  "kernelspec": {
   "display_name": "venv",
   "language": "python",
   "name": "python3"
  },
  "language_info": {
   "codemirror_mode": {
    "name": "ipython",
    "version": 3
   },
   "file_extension": ".py",
   "mimetype": "text/x-python",
   "name": "python",
   "nbconvert_exporter": "python",
   "pygments_lexer": "ipython3",
   "version": "3.11.12"
  }
 },
 "nbformat": 4,
 "nbformat_minor": 5
}
